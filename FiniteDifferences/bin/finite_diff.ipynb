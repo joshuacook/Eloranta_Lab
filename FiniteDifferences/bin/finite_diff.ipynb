{
 "metadata": {
  "name": "",
  "signature": "sha256:4b05cae435af6cbbe12f3f00606991db2bcd252c302da83bc46df2ca63defcf1"
 },
 "nbformat": 3,
 "nbformat_minor": 0,
 "worksheets": [
  {
   "cells": [
    {
     "cell_type": "markdown",
     "metadata": {},
     "source": [
      "# Finite Difference Project"
     ]
    },
    {
     "cell_type": "markdown",
     "metadata": {},
     "source": [
      "## Import Statements"
     ]
    },
    {
     "cell_type": "code",
     "collapsed": false,
     "input": [
      "from secondDiff import *\n",
      "import numpy as np\n",
      "import numpy.linalg as la\n",
      "import matplotlib.pyplot as plt\n",
      "%matplotlib inline "
     ],
     "language": "python",
     "metadata": {},
     "outputs": [],
     "prompt_number": 41
    },
    {
     "cell_type": "markdown",
     "metadata": {},
     "source": [
      "## Basics\n",
      "Define `D` our second difference matrix.\n",
      "\n",
      "$$D \\approx \\frac{d^2}{dx^2}$$"
     ]
    },
    {
     "cell_type": "code",
     "collapsed": false,
     "input": [
      "D = secondDiff('D',15)"
     ],
     "language": "python",
     "metadata": {},
     "outputs": [],
     "prompt_number": 49
    },
    {
     "cell_type": "markdown",
     "metadata": {},
     "source": [
      "Define the test function (cubic).\n",
      "\n",
      "$$t(x)\\approx x^3$$"
     ]
    },
    {
     "cell_type": "code",
     "collapsed": false,
     "input": [
      "test_function = lambda x : x**3\n",
      "test_vector = test_function(np.linspace(1,15,15))"
     ],
     "language": "python",
     "metadata": {},
     "outputs": [],
     "prompt_number": 51
    },
    {
     "cell_type": "markdown",
     "metadata": {},
     "source": [
      "Multiply the test function with the second difference operator to approximate the second derivative.\n",
      "\n",
      "$$Dt(x)\\approx 6x$$\n"
     ]
    },
    {
     "cell_type": "code",
     "collapsed": false,
     "input": [
      "D.dot(test_vector)"
     ],
     "language": "python",
     "metadata": {},
     "outputs": [
      {
       "metadata": {},
       "output_type": "pyout",
       "prompt_number": 54,
       "text": [
        "matrix([[    6.,    12.,    18.,    24.,    30.,    36.,    42.,    48.,\n",
        "            54.,    60.,    66.,    72.,    78.,    84., -4006.]])"
       ]
      }
     ],
     "prompt_number": 54
    },
    {
     "cell_type": "markdown",
     "metadata": {},
     "source": [
      "## Solve a more basic differential equation\n",
      "Solve $D_15u = 1$."
     ]
    },
    {
     "cell_type": "code",
     "collapsed": false,
     "input": [
      "D_15 = secondDiff(D,15)\n",
      "ind = np.linspace(1,15,15)\n",
      "u = la.solve(D_15,test_vector)\n",
      "plt.plot(ind,u)\n",
      "u"
     ],
     "language": "python",
     "metadata": {},
     "outputs": [
      {
       "metadata": {},
       "output_type": "pyout",
       "prompt_number": 55,
       "text": [
        "array([ -3255.5,  -6510. ,  -9756.5, -12976. , -16131.5, -19162. ,\n",
        "       -21976.5, -24448. , -26407.5, -27638. , -27868.5, -26768. ,\n",
        "       -23939.5, -18914. , -11144.5])"
       ]
      },
      {
       "metadata": {},
       "output_type": "display_data",
       "png": "[encoded data removed]",
       "text": [
        "<matplotlib.figure.Figure at 0x112dce250>"
       ]
      }
     ],
     "prompt_number": 55
    },
    {
     "cell_type": "markdown",
     "metadata": {},
     "source": [
      "## Solve a basic differential equation"
     ]
    },
    {
     "cell_type": "markdown",
     "metadata": {},
     "source": [
      "Solving $D_3u+u=0$.\n",
      "\n",
      "We will approximate so that in our matrix algebra\n",
      "\n",
      "\\begin{align*}\n",
      "D_3u+Iu&=\\vec{0}\\\\\n",
      "\\left(\\begin{matrix}-2 & 1 & 0 \\\\ 1 & -2 & 1 \\\\ 0 & 1 & -2\\end{matrix}\\right)u + \n",
      "\\left(\\begin{matrix} 1 & 0 & 0 \\\\ 0 &  1 & 0 \\\\ 0 & 0 &  1\\end{matrix}\\right)u &= \n",
      "\\left(\\begin{matrix}0 \\\\ 0 \\\\ 0 \\end{matrix}\\right)\\\\\n",
      "\\left(\\begin{matrix}-1 & 1 & 0 \\\\ 1 & -1 & -1 \\\\ 0 & 1 & -1\\end{matrix}\\right)u + &= \n",
      "\\left(\\begin{matrix}0 \\\\ 0 \\\\ 0 \\end{matrix}\\right)\\\\\n",
      "D_{3'}u&=0\n",
      "\\end{align*}\n",
      "\n",
      "We seek $u$ that satisfies this equation."
     ]
    },
    {
     "cell_type": "code",
     "collapsed": false,
     "input": [
      "D_7 = secondDiff(D,7)\n",
      "D_5p = D_5 + np.eye(5)\n",
      "D_7p = D_7 + np.eye(7)\n"
     ],
     "language": "python",
     "metadata": {},
     "outputs": [],
     "prompt_number": 70
    },
    {
     "cell_type": "code",
     "collapsed": false,
     "input": [
      "oh_7 = np.zeros(7)"
     ],
     "language": "python",
     "metadata": {},
     "outputs": [],
     "prompt_number": 71
    },
    {
     "cell_type": "code",
     "collapsed": false,
     "input": [
      "la.solve(D_7p,oh_7)\n"
     ],
     "language": "python",
     "metadata": {},
     "outputs": [
      {
       "metadata": {},
       "output_type": "pyout",
       "prompt_number": 72,
       "text": [
        "array([-0.,  0.,  0., -0.,  0.,  0., -0.])"
       ]
      }
     ],
     "prompt_number": 72
    },
    {
     "cell_type": "code",
     "collapsed": false,
     "input": [],
     "language": "python",
     "metadata": {},
     "outputs": []
    }
   ],
   "metadata": {}
  }
 ]
}